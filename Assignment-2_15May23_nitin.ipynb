{
 "cells": [
  {
   "cell_type": "markdown",
   "id": "36dbbcd0-0c15-495e-9224-6f0d81b6d57b",
   "metadata": {},
   "source": [
    "# Q1. How do you comment code in Python? What are the different types of comments?"
   ]
  },
  {
   "cell_type": "code",
   "execution_count": null,
   "id": "444396f8-971c-493d-ae09-9c10b0a1563c",
   "metadata": {},
   "outputs": [],
   "source": [
    "# There are two methods for comment code or string in python\n",
    "# Method-1 by using '#' Hash symbol\n",
    "  '''  '#' character is generally use for Single-line comments. \n",
    "        Anything that is written in a single line after ‘#’ is considered as a comment. \n",
    "        The syntax for writing single-line comments is:\n",
    "        # comments here\n",
    "       \n",
    "       # is also used for multi-lines comments by insert # for each line. '''\n",
    "    \n",
    "# Method-2 by using triple quotation mark\n",
    " ''' triple quotation is mainly used for string and it is in multiline but it is working with code and function.\n",
    "     the syntax is in start and end of string we insert triple quotation mark \n",
    " '''\n",
    "# Method-3 by using Markdown option from drop down meenu in 'select the cell type'\n",
    "  ''' we can also comment the cell by using markdown tab in cell type menu'''"
   ]
  },
  {
   "cell_type": "markdown",
   "id": "fb375e0a-572b-4c28-b6c7-79ed2dd84129",
   "metadata": {},
   "source": [
    "# Q2. What are variables in Python? How do you declare and assign values to variables?"
   ]
  },
  {
   "cell_type": "code",
   "execution_count": null,
   "id": "7b3f8b50-d473-4ba8-93e5-bd8a65de9d7f",
   "metadata": {},
   "outputs": [],
   "source": [
    "\"\"\" A variable in a python is a symbolic name that is a reference or pointer to an object. \n",
    "   Once an object is assigned to a variable, you can refer to the object by that name. \n",
    " \n",
    "  To create a variable, we just assign it a value and then start using it. \n",
    "  Assignment is done with a single equals sign (=)\n",
    "  For example: a = 300    \"\"\"\n",
    "  "
   ]
  },
  {
   "cell_type": "markdown",
   "id": "4f7566ac-056f-4f2e-89db-36090920e74e",
   "metadata": {},
   "source": [
    "# Q3. How do you convert one data type to another in Python?"
   ]
  },
  {
   "cell_type": "code",
   "execution_count": null,
   "id": "1cbae4bb-d9b6-459d-bbd6-8bc1d09857e7",
   "metadata": {},
   "outputs": [],
   "source": [
    "\"\"\"To convert between types, we use the type name as a function.\n",
    "  There are several built-in functions to perform conversion from one data type to another. \n",
    "  These functions return a new object representing the converted value.\"\"\"\n",
    "\n",
    "\"\"\"example\n",
    "x = int(y)\n",
    "p = float(q)\n",
    "n = str(m)\n",
    "\"\"\""
   ]
  },
  {
   "cell_type": "markdown",
   "id": "29197d58-140f-4ce1-b7ac-4f0326a75f1e",
   "metadata": {},
   "source": [
    "# Q4. How do you write and execute a Python script from the command line?"
   ]
  },
  {
   "cell_type": "code",
   "execution_count": null,
   "id": "aff21c13-0ceb-4c8d-b58c-2c0710bc8c43",
   "metadata": {},
   "outputs": [],
   "source": [
    "# how to open command line\n",
    "\"\"\"The simplest way to start the interpreter is to open the terminal and then use the interpreter from the command line.\n",
    "To open the command-line interpreter:\n",
    "On Windows, the command line is called the command prompt or MS-DOS console. \n",
    "A way to access it is to go to the Start menu → Run and type cmd.\"\"\"\n",
    "\n",
    "# How to start python in the command line\n",
    "  \"\"\" type python in the command line or terminal and hit the ENTER key from the keyboard.\"\"\"\n",
    "\n",
    "# how to write code or script in command line for execute\n",
    "\"\"\" The >>> on the terminal represents the standard prompt for the interactive mode.\n",
    "    Type syntax in the command line and hit the ENTER key from the keyboard\"\"\"\n",
    "\n",
    "# above step executed at my laptop and is output as below\n",
    "\"\"\" Microsoft Windows [Version 10.0.22621.1848]\n",
    "(c) Microsoft Corporation. All rights reserved.\n",
    "\n",
    "C:\\Users\\DELL>python\n",
    "Python 3.11.4 (tags/v3.11.4:d2340ef, Jun  7 2023, 05:45:37) [MSC v.1934 64 bit (AMD64)] on win32\n",
    "Type \"help\", \"copyright\", \"credits\" or \"license\" for more information.\n",
    ">>> print('Hello World')\n",
    "Hello World\n",
    ">>> 2+3\n",
    "5\n",
    ">>> \n",
    "\"\"\""
   ]
  },
  {
   "cell_type": "markdown",
   "id": "e2e42ff3-83a5-4baa-a177-13af422b15f5",
   "metadata": {},
   "source": [
    "# Q5. Given a list my_list = [1, 2, 3, 4, 5], write the code to slice the list and obtain the sub-list [2, 3]."
   ]
  },
  {
   "cell_type": "code",
   "execution_count": 33,
   "id": "58695cc6-af3a-441d-921d-f8a4f72c90b8",
   "metadata": {},
   "outputs": [],
   "source": [
    "my_list = [1, 2, 3, 4, 5]"
   ]
  },
  {
   "cell_type": "code",
   "execution_count": 34,
   "id": "1f4412c8-bd63-427e-a0ca-c1ac5645d34d",
   "metadata": {},
   "outputs": [
    {
     "data": {
      "text/plain": [
       "[2, 3]"
      ]
     },
     "execution_count": 34,
     "metadata": {},
     "output_type": "execute_result"
    }
   ],
   "source": [
    "my_list[1:3]    # slice operator"
   ]
  },
  {
   "cell_type": "markdown",
   "id": "aa57356d-f740-441c-ab9b-b0e67bd2d83f",
   "metadata": {},
   "source": [
    "# Q6. What is a complex number in mathematics, and how is it represented in Python?"
   ]
  },
  {
   "cell_type": "code",
   "execution_count": null,
   "id": "064800d4-8b62-45de-a5e9-92d4d3f5ef07",
   "metadata": {},
   "outputs": [],
   "source": [
    "# complex number in mathematics\n",
    "# Complex numbers is expressed in the form of (a+ib) \n",
    "# where, a,b are real numbers and 'i' is an imaginary number which is  square root of -1. \n",
    "# For example, 2+3i is a complex number, where 2 is a real number and 3i is an imaginary number.\n",
    "\n",
    "# while, in python\n",
    "# complex number is written in the form of (x + yj) \n",
    "# where x and y are real numbers and j is an imaginary number which is the square root of -1.\n",
    "\n",
    "# difference in mathematics and paython in only in notation of imaginary number \n",
    "# i.e. 'i' is used in mathematics while in pythoin it is 'j' "
   ]
  },
  {
   "cell_type": "markdown",
   "id": "8c49cab6-cc15-4353-abda-87bc053a9140",
   "metadata": {},
   "source": [
    "# Q7. What is the correct way to declare a variable named age and assign the value 25 to it?"
   ]
  },
  {
   "cell_type": "code",
   "execution_count": 19,
   "id": "f97814e2-3074-4369-b096-89578832f1a4",
   "metadata": {},
   "outputs": [],
   "source": [
    "age = int()"
   ]
  },
  {
   "cell_type": "code",
   "execution_count": 20,
   "id": "9d0e8229-7ddd-4517-ba25-31e71ca044c8",
   "metadata": {},
   "outputs": [],
   "source": [
    "age = 25"
   ]
  },
  {
   "cell_type": "code",
   "execution_count": 21,
   "id": "e804f865-fcd7-4146-8e92-15b85f42bfab",
   "metadata": {},
   "outputs": [
    {
     "data": {
      "text/plain": [
       "25"
      ]
     },
     "execution_count": 21,
     "metadata": {},
     "output_type": "execute_result"
    }
   ],
   "source": [
    "age"
   ]
  },
  {
   "cell_type": "markdown",
   "id": "32037390-fdb0-4e82-9a1d-84d64e8a8fe7",
   "metadata": {},
   "source": [
    "# Q8. Declare a variable named price and assign the value 9.99 to it. What data type does this variable belong to?"
   ]
  },
  {
   "cell_type": "code",
   "execution_count": 29,
   "id": "6a4e2eae-3454-4d1d-9f68-37e76c2b6dac",
   "metadata": {},
   "outputs": [],
   "source": [
    "price= int()"
   ]
  },
  {
   "cell_type": "code",
   "execution_count": 28,
   "id": "55c2a015-ed95-4440-b6f3-2153a64a1c19",
   "metadata": {},
   "outputs": [
    {
     "data": {
      "text/plain": [
       "float"
      ]
     },
     "execution_count": 28,
     "metadata": {},
     "output_type": "execute_result"
    }
   ],
   "source": [
    "type(price)"
   ]
  },
  {
   "cell_type": "code",
   "execution_count": 30,
   "id": "7e97952b-72f0-4870-b67b-b0a459ffa3e4",
   "metadata": {},
   "outputs": [],
   "source": [
    "price = 9.99"
   ]
  },
  {
   "cell_type": "code",
   "execution_count": 31,
   "id": "a03feb85-38dd-4935-b61b-e9834baa4220",
   "metadata": {},
   "outputs": [
    {
     "data": {
      "text/plain": [
       "9.99"
      ]
     },
     "execution_count": 31,
     "metadata": {},
     "output_type": "execute_result"
    }
   ],
   "source": [
    "price"
   ]
  },
  {
   "cell_type": "code",
   "execution_count": 32,
   "id": "9172b1c9-6050-42d0-b384-7765aebc43d6",
   "metadata": {},
   "outputs": [
    {
     "data": {
      "text/plain": [
       "float"
      ]
     },
     "execution_count": 32,
     "metadata": {},
     "output_type": "execute_result"
    }
   ],
   "source": [
    "type(price)"
   ]
  },
  {
   "cell_type": "markdown",
   "id": "f47cee29-5a0a-4f2b-b1f5-40d9d59de704",
   "metadata": {},
   "source": [
    "# Q9. Create a variable named name and assign your full name to it as a string. How would you print the value of this variable?"
   ]
  },
  {
   "cell_type": "code",
   "execution_count": 22,
   "id": "67501b53-982b-455a-85fb-e9b5e772e945",
   "metadata": {},
   "outputs": [],
   "source": [
    "name= str()"
   ]
  },
  {
   "cell_type": "code",
   "execution_count": 23,
   "id": "4a447c25-0a59-4723-8fbb-15a42a744ffc",
   "metadata": {},
   "outputs": [
    {
     "data": {
      "text/plain": [
       "str"
      ]
     },
     "execution_count": 23,
     "metadata": {},
     "output_type": "execute_result"
    }
   ],
   "source": [
    "type(name)"
   ]
  },
  {
   "cell_type": "code",
   "execution_count": 26,
   "id": "386880f4-2c01-4fb3-a576-e13093fe4d54",
   "metadata": {},
   "outputs": [
    {
     "name": "stdout",
     "output_type": "stream",
     "text": [
      "Nitin Narang\n"
     ]
    }
   ],
   "source": [
    "name= 'Nitin Narang'\n",
    "print(name)"
   ]
  },
  {
   "cell_type": "markdown",
   "id": "7fdae774-5ce3-4e11-97ea-2fd0c67b4819",
   "metadata": {},
   "source": [
    "# Q10. Given the string \"Hello, World!\", extract the substring \"World\"."
   ]
  },
  {
   "cell_type": "code",
   "execution_count": 2,
   "id": "7ee99233-f618-4316-9371-e495786b6cc5",
   "metadata": {},
   "outputs": [],
   "source": [
    "s=\"Hello, World!\""
   ]
  },
  {
   "cell_type": "code",
   "execution_count": 3,
   "id": "05848c0c-a7ef-4c3a-be4f-5a3af52edc9d",
   "metadata": {},
   "outputs": [
    {
     "data": {
      "text/plain": [
       "'Hello, World!'"
      ]
     },
     "execution_count": 3,
     "metadata": {},
     "output_type": "execute_result"
    }
   ],
   "source": [
    "s"
   ]
  },
  {
   "cell_type": "code",
   "execution_count": 8,
   "id": "9068b661-7763-45d5-abca-4a372ff6611f",
   "metadata": {},
   "outputs": [
    {
     "data": {
      "text/plain": [
       "'World'"
      ]
     },
     "execution_count": 8,
     "metadata": {},
     "output_type": "execute_result"
    }
   ],
   "source": [
    "s[7:-1]"
   ]
  },
  {
   "cell_type": "markdown",
   "id": "214d00be-f76c-4744-8ffe-60e89cb6706a",
   "metadata": {},
   "source": [
    "# Q11. Create a variable named \"is_student\" and assign it a boolean value indicating whether you are currently a student or not."
   ]
  },
  {
   "cell_type": "code",
   "execution_count": 72,
   "id": "510f5d52-0206-4297-b7a6-6a97b077dad8",
   "metadata": {},
   "outputs": [],
   "source": [
    "student_name = ['nitin', 10, 'narang']\n",
    "is_student =[]"
   ]
  },
  {
   "cell_type": "code",
   "execution_count": 73,
   "id": "5809f79e-39b6-4341-8da6-54e32b9ae4dd",
   "metadata": {},
   "outputs": [],
   "source": [
    "for i in student_name:\n",
    "    if type(i) == str: \n",
    "        is_student.append(\"True\")\n",
    "    else: \n",
    "        is_student.append(\"False\")"
   ]
  },
  {
   "cell_type": "code",
   "execution_count": 74,
   "id": "e8d99aee-bdd6-480b-b127-b9e8bb8e7e7e",
   "metadata": {},
   "outputs": [
    {
     "data": {
      "text/plain": [
       "['True', 'False', 'True']"
      ]
     },
     "execution_count": 74,
     "metadata": {},
     "output_type": "execute_result"
    }
   ],
   "source": [
    "is_student"
   ]
  }
 ],
 "metadata": {
  "kernelspec": {
   "display_name": "Python 3 (ipykernel)",
   "language": "python",
   "name": "python3"
  },
  "language_info": {
   "codemirror_mode": {
    "name": "ipython",
    "version": 3
   },
   "file_extension": ".py",
   "mimetype": "text/x-python",
   "name": "python",
   "nbconvert_exporter": "python",
   "pygments_lexer": "ipython3",
   "version": "3.10.8"
  }
 },
 "nbformat": 4,
 "nbformat_minor": 5
}
