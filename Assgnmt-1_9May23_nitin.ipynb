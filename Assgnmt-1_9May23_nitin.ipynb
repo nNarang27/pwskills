{
 "cells": [
  {
   "cell_type": "markdown",
   "id": "184c8ed2-4ee2-4d5c-94bd-f6d7a3b21ac7",
   "metadata": {},
   "source": [
    "# Assignment-1 Dated 09 May2023"
   ]
  },
  {
   "cell_type": "markdown",
   "id": "152b0d57-a4c6-4964-9f13-46f01fd05e31",
   "metadata": {},
   "source": [
    "# Q1. Create one variable containing following type of data:\n",
    "\n",
    "(i)\tstring\n",
    "\n",
    "(ii)\tlist\n",
    "\n",
    "(iii)\tfloat\n",
    "\n",
    "(iv)\ttuple"
   ]
  },
  {
   "cell_type": "code",
   "execution_count": 2,
   "id": "f466a6c2-89a9-4e9d-bb88-a9bd2bfe9720",
   "metadata": {},
   "outputs": [],
   "source": [
    "V1= ['nitin', [1,5,10],2.5,3.5,(9,8,7,6)]"
   ]
  },
  {
   "cell_type": "markdown",
   "id": "3bba7667-2f66-4e5d-8cf3-c96f5dcc08f5",
   "metadata": {},
   "source": [
    "# Q2. Given are some following variables containing data:\n",
    "\n",
    "(i)\tvar1 = ‘ ‘\n",
    "\n",
    "(ii)\tvar2 = ‘[ DS , ML , Python]’\n",
    "\n",
    "(iii)\tvar3 = [ ‘DS’ , ’ML’ , ‘Python’ ]\n",
    "\n",
    "(iv)\tvar4 = 1.\n",
    "\n",
    "What will be the data type of the above given variable."
   ]
  },
  {
   "cell_type": "code",
   "execution_count": 3,
   "id": "87d408d8-c9b3-49e6-9cf1-5379ca027203",
   "metadata": {},
   "outputs": [],
   "source": [
    "var1=''"
   ]
  },
  {
   "cell_type": "code",
   "execution_count": 4,
   "id": "f36a5bd2-0588-47ec-b32e-440d92d2c5fa",
   "metadata": {},
   "outputs": [
    {
     "data": {
      "text/plain": [
       "str"
      ]
     },
     "execution_count": 4,
     "metadata": {},
     "output_type": "execute_result"
    }
   ],
   "source": [
    "type(var1)"
   ]
  },
  {
   "cell_type": "code",
   "execution_count": 10,
   "id": "48334636-0c76-4f72-a2a6-f59a29e8e364",
   "metadata": {},
   "outputs": [],
   "source": [
    " var2 = '[ DS , ML , Python]'"
   ]
  },
  {
   "cell_type": "code",
   "execution_count": 11,
   "id": "437a1a8f-2f2b-4b49-a718-fcfc43b331e5",
   "metadata": {},
   "outputs": [
    {
     "data": {
      "text/plain": [
       "str"
      ]
     },
     "execution_count": 11,
     "metadata": {},
     "output_type": "execute_result"
    }
   ],
   "source": [
    "type(var2)"
   ]
  },
  {
   "cell_type": "code",
   "execution_count": 7,
   "id": "9d866332-d240-4064-a70d-26eb688c66ff",
   "metadata": {},
   "outputs": [],
   "source": [
    "var3 = [ 'DS' , 'ML' , 'Python' ]"
   ]
  },
  {
   "cell_type": "code",
   "execution_count": 8,
   "id": "dcaedfa2-bcad-424b-90cf-e8ee8c5892fa",
   "metadata": {},
   "outputs": [
    {
     "data": {
      "text/plain": [
       "list"
      ]
     },
     "execution_count": 8,
     "metadata": {},
     "output_type": "execute_result"
    }
   ],
   "source": [
    "type(var3)"
   ]
  },
  {
   "cell_type": "code",
   "execution_count": 1,
   "id": "3a56ca17-f6c5-4895-ba94-b369a65484bd",
   "metadata": {},
   "outputs": [],
   "source": [
    "var4 = 1."
   ]
  },
  {
   "cell_type": "code",
   "execution_count": 2,
   "id": "84a8179b-9d05-4004-b7bd-38624b3c2cbc",
   "metadata": {},
   "outputs": [
    {
     "data": {
      "text/plain": [
       "float"
      ]
     },
     "execution_count": 2,
     "metadata": {},
     "output_type": "execute_result"
    }
   ],
   "source": [
    "type(var4)"
   ]
  },
  {
   "cell_type": "markdown",
   "id": "4043bb45-e55e-4bd2-b498-1a13c439dd3a",
   "metadata": {},
   "source": [
    "# Q3. Explain the use of the following operators using an example:\n",
    "\n",
    "(i)\t/\n",
    "\n",
    "(ii)\t% \n",
    "\n",
    "(iii)\t//\n",
    "\n",
    "(iv)\t**"
   ]
  },
  {
   "cell_type": "code",
   "execution_count": 5,
   "id": "020451fd-fdbe-4e9c-a0d6-44bf65c929b1",
   "metadata": {},
   "outputs": [
    {
     "name": "stdout",
     "output_type": "stream",
     "text": [
      "3.3333333333333335\n"
     ]
    }
   ],
   "source": [
    "# / is divide operator\n",
    "\n",
    "a=10\n",
    "b=3\n",
    "\n",
    "c= a/b\n",
    "\n",
    "print(c)"
   ]
  },
  {
   "cell_type": "code",
   "execution_count": 8,
   "id": "c741dac0-bd76-4758-9f1b-c3cca489aca5",
   "metadata": {},
   "outputs": [
    {
     "name": "stdout",
     "output_type": "stream",
     "text": [
      "1\n"
     ]
    }
   ],
   "source": [
    "# % is modulo or reminder operator\n",
    "\n",
    "d= a % b\n",
    "\n",
    "print(d)"
   ]
  },
  {
   "cell_type": "code",
   "execution_count": 10,
   "id": "56c354ea-54d5-4e20-89ee-92d34650a444",
   "metadata": {},
   "outputs": [
    {
     "name": "stdout",
     "output_type": "stream",
     "text": [
      "3\n"
     ]
    }
   ],
   "source": [
    "# // is Floor division operator\n",
    "\n",
    "c = a//b\n",
    "print(e)"
   ]
  },
  {
   "cell_type": "code",
   "execution_count": 11,
   "id": "51f118c4-1799-42f1-9386-e002ac1bcd7e",
   "metadata": {},
   "outputs": [
    {
     "name": "stdout",
     "output_type": "stream",
     "text": [
      "1000\n"
     ]
    }
   ],
   "source": [
    "# ** exponential operator or power operator\n",
    "\n",
    "e = a ** b\n",
    "\n",
    "print(e)"
   ]
  },
  {
   "cell_type": "markdown",
   "id": "e11e8782-ce49-44cc-a183-1529b9545b57",
   "metadata": {},
   "source": [
    "# Q4. Create a list of length 10 of your choice containing multiple types of data. Using for loop print the element and its data type."
   ]
  },
  {
   "cell_type": "code",
   "execution_count": 3,
   "id": "46f807e5-c9ed-490f-ba46-b9300a6bd713",
   "metadata": {},
   "outputs": [],
   "source": [
    "n1 = [12,23,45,5.6,6.7,7.8,89,90,\"nitin\", 5+7j]"
   ]
  },
  {
   "cell_type": "code",
   "execution_count": 21,
   "id": "79ab80f0-01c6-4d19-9336-7c92edff19ed",
   "metadata": {},
   "outputs": [
    {
     "data": {
      "text/plain": [
       "list"
      ]
     },
     "execution_count": 21,
     "metadata": {},
     "output_type": "execute_result"
    }
   ],
   "source": [
    "type(n1)"
   ]
  },
  {
   "cell_type": "code",
   "execution_count": 20,
   "id": "f1716cb4-9266-4843-9bbd-869a9704650d",
   "metadata": {},
   "outputs": [
    {
     "name": "stdout",
     "output_type": "stream",
     "text": [
      "12 <class 'int'>\n",
      "23 <class 'int'>\n",
      "45 <class 'int'>\n",
      "5.6 <class 'float'>\n",
      "6.7 <class 'float'>\n",
      "7.8 <class 'float'>\n",
      "89 <class 'int'>\n",
      "90 <class 'int'>\n",
      "nitin <class 'str'>\n",
      "(5+7j) <class 'complex'>\n"
     ]
    }
   ],
   "source": [
    "for i in n1:\n",
    "    print (i,  type(i))"
   ]
  },
  {
   "cell_type": "markdown",
   "id": "3235648a-935d-4982-8a46-7c7219484e7a",
   "metadata": {},
   "source": [
    "# Q5. Using a while loop, verify if the number A is purely divisible by number B and if so then how many times it can be divisible."
   ]
  },
  {
   "cell_type": "code",
   "execution_count": 4,
   "id": "b6254696-c6a1-4f35-ba39-d7c14ff69462",
   "metadata": {},
   "outputs": [],
   "source": [
    "A = 75\n",
    "B =5"
   ]
  },
  {
   "cell_type": "code",
   "execution_count": 6,
   "id": "498c33dc-ca68-4ce5-a903-49f33ca11ef5",
   "metadata": {},
   "outputs": [
    {
     "name": "stdout",
     "output_type": "stream",
     "text": [
      "15.0\n"
     ]
    }
   ],
   "source": [
    "# without While loop \n",
    "while A%B ==0:\n",
    "    c=A/B\n",
    "    print(c)\n",
    "    break"
   ]
  },
  {
   "cell_type": "markdown",
   "id": "a821dd6e-73f1-46ec-b1e0-01a72f9682db",
   "metadata": {},
   "source": [
    "# Q6. Create a list containing 25 int type data. Using for loop and if-else condition print if the element is divisible by 3 or not."
   ]
  },
  {
   "cell_type": "code",
   "execution_count": 14,
   "id": "c9e55965-13b4-4a4e-b7ea-eaae1147e342",
   "metadata": {},
   "outputs": [],
   "source": [
    "l25=[70,72,9,16,24,35,11,30,35,48,22,14,42,56,89,50,34,27,63,54,12,91,111,82,99]"
   ]
  },
  {
   "cell_type": "code",
   "execution_count": 15,
   "id": "593ec253-d4ff-4b63-8092-077105a2fc0d",
   "metadata": {},
   "outputs": [
    {
     "data": {
      "text/plain": [
       "25"
      ]
     },
     "execution_count": 15,
     "metadata": {},
     "output_type": "execute_result"
    }
   ],
   "source": [
    "len(l25)"
   ]
  },
  {
   "cell_type": "code",
   "execution_count": 28,
   "id": "b3b10ab2-fe64-41c8-ba22-94dd8d2e06cb",
   "metadata": {},
   "outputs": [
    {
     "name": "stdout",
     "output_type": "stream",
     "text": [
      "NO,yes,yes,NO,yes,NO,NO,yes,NO,yes,NO,NO,yes,NO,NO,NO,NO,yes,yes,yes,yes,NO,yes,NO,yes,"
     ]
    }
   ],
   "source": [
    "for i in l25:\n",
    "    if i%3==0 :\n",
    "        print (\"yes\",end=\",\")   # print Yes when divisible by 3 \n",
    "    else: \n",
    "        print(\"NO\",end=\",\")     # print No when divisible by 3"
   ]
  },
  {
   "cell_type": "markdown",
   "id": "3a396b45-c344-4b30-919d-0fa22866da6c",
   "metadata": {},
   "source": [
    "# Q7. What do you understand about mutable and immutable data types? Give examples for both showing this property."
   ]
  },
  {
   "cell_type": "code",
   "execution_count": 7,
   "id": "a5693d70-3840-4ce8-aecf-ab6c93e68299",
   "metadata": {},
   "outputs": [],
   "source": [
    "## Mutable data type are data in which we can change values while, in immutable we cannot change values.\n",
    "#  example for mutable is List and for immutable is tuple \n",
    "\n",
    "# mutable\n",
    "l=[10,20,30]"
   ]
  },
  {
   "cell_type": "code",
   "execution_count": 8,
   "id": "db236106-3812-458b-bc37-bc53d83af931",
   "metadata": {},
   "outputs": [
    {
     "data": {
      "text/plain": [
       "[10, 20, 30]"
      ]
     },
     "execution_count": 8,
     "metadata": {},
     "output_type": "execute_result"
    }
   ],
   "source": [
    "l"
   ]
  },
  {
   "cell_type": "code",
   "execution_count": 9,
   "id": "79843e96-e3b8-4958-854a-8dea35411ebb",
   "metadata": {},
   "outputs": [],
   "source": [
    "l[0]=40"
   ]
  },
  {
   "cell_type": "code",
   "execution_count": 10,
   "id": "cc54d74d-42de-42bf-938d-80199f451ce3",
   "metadata": {},
   "outputs": [
    {
     "data": {
      "text/plain": [
       "[40, 20, 30]"
      ]
     },
     "execution_count": 10,
     "metadata": {},
     "output_type": "execute_result"
    }
   ],
   "source": [
    "l"
   ]
  },
  {
   "cell_type": "code",
   "execution_count": 11,
   "id": "f9e2b42f-e0be-41d2-8007-d88000298243",
   "metadata": {},
   "outputs": [],
   "source": [
    "# immutable example\n",
    "\n",
    "t = (50,60,70)"
   ]
  },
  {
   "cell_type": "code",
   "execution_count": 12,
   "id": "037220a1-6396-49d3-97ae-e9959496989d",
   "metadata": {},
   "outputs": [
    {
     "data": {
      "text/plain": [
       "(50, 60, 70)"
      ]
     },
     "execution_count": 12,
     "metadata": {},
     "output_type": "execute_result"
    }
   ],
   "source": [
    "t"
   ]
  },
  {
   "cell_type": "code",
   "execution_count": 13,
   "id": "c7023787-2d88-4815-8345-4fc8b1cd4689",
   "metadata": {},
   "outputs": [
    {
     "ename": "TypeError",
     "evalue": "'tuple' object does not support item assignment",
     "output_type": "error",
     "traceback": [
      "\u001b[0;31m---------------------------------------------------------------------------\u001b[0m",
      "\u001b[0;31mTypeError\u001b[0m                                 Traceback (most recent call last)",
      "Cell \u001b[0;32mIn[13], line 1\u001b[0m\n\u001b[0;32m----> 1\u001b[0m \u001b[43mt\u001b[49m\u001b[43m[\u001b[49m\u001b[38;5;241;43m0\u001b[39;49m\u001b[43m]\u001b[49m\u001b[38;5;241m=\u001b[39m\u001b[38;5;241m80\u001b[39m\n",
      "\u001b[0;31mTypeError\u001b[0m: 'tuple' object does not support item assignment"
     ]
    }
   ],
   "source": [
    "t[0]=80"
   ]
  },
  {
   "cell_type": "code",
   "execution_count": null,
   "id": "72629d9a-9f64-4f10-bbf5-ae8d1bfbae7d",
   "metadata": {},
   "outputs": [],
   "source": []
  }
 ],
 "metadata": {
  "kernelspec": {
   "display_name": "Python 3 (ipykernel)",
   "language": "python",
   "name": "python3"
  },
  "language_info": {
   "codemirror_mode": {
    "name": "ipython",
    "version": 3
   },
   "file_extension": ".py",
   "mimetype": "text/x-python",
   "name": "python",
   "nbconvert_exporter": "python",
   "pygments_lexer": "ipython3",
   "version": "3.10.8"
  }
 },
 "nbformat": 4,
 "nbformat_minor": 5
}
