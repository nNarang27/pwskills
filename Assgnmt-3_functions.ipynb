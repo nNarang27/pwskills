{
 "cells": [
  {
   "cell_type": "markdown",
   "id": "c2d6b517-f3f3-446a-8c02-08fa5f548776",
   "metadata": {},
   "source": [
    "# Q1. Which keyword is used to create a function? Create a function to return a list of odd numbers in the range of 1 to 25."
   ]
  },
  {
   "cell_type": "code",
   "execution_count": 20,
   "id": "b66fa25f-2f5d-4864-bafa-884a6a463a14",
   "metadata": {},
   "outputs": [],
   "source": [
    "# def is used to create or define a function\n",
    "\n",
    "l=[1,2,3,4,5,6,7,8,9,10,11,12,13,14,15,16,17,18,19,20,21,22,23,24,25]            "
   ]
  },
  {
   "cell_type": "code",
   "execution_count": 21,
   "id": "076ee00a-83f7-4e63-aaf1-cf98840fbad8",
   "metadata": {},
   "outputs": [],
   "source": [
    "def odd_number(a):\n",
    "    l_odd=[]\n",
    "    for i in a :\n",
    "        if i/2 and i%2 ==0:\n",
    "            pass\n",
    "        else:\n",
    "            l_odd.append(i)\n",
    "    print (l_odd)\n",
    "    #return l_odd"
   ]
  },
  {
   "cell_type": "code",
   "execution_count": 22,
   "id": "2e33423a-efb4-4bf8-8c6c-2ab0001236c0",
   "metadata": {},
   "outputs": [
    {
     "name": "stdout",
     "output_type": "stream",
     "text": [
      "[1, 3, 5, 7, 9, 11, 13, 15, 17, 19, 21, 23, 25]\n"
     ]
    }
   ],
   "source": [
    "odd_number(l)"
   ]
  },
  {
   "cell_type": "markdown",
   "id": "3275ff0f-5132-4a69-8c4a-d76685aaef46",
   "metadata": {},
   "source": [
    "# Q2. Why *args and **kwargs is used in some functions? Create a function each for *args and **kwargs to demonstrate their use."
   ]
  },
  {
   "cell_type": "code",
   "execution_count": null,
   "id": "98f477d2-898a-4c74-ada2-c1c1140c1bfc",
   "metadata": {},
   "outputs": [],
   "source": [
    "# *args argument\n",
    "# *args means any or 'n' no. of arguments. It is not keyword while it is convention\n",
    "''' The special syntax *args in function definitions in Python is used to pass a variable number of arguments to a function.\n",
    "  What *args allows you to do is take in more arguments than the number of formal arguments that you previously defined. '''\n",
    "\n",
    "# **kwargs argument\n",
    "'''The special syntax **kwargs in function definitions in Python is used to pass a keyworded, variable-length argument list. \n",
    "  We use the name kwargs with the double star. The reason is that the double star allows us to pass through keyword arguments \n",
    "  (and any number of them).\n",
    "  it is maily used for dictionary data type'''"
   ]
  },
  {
   "cell_type": "code",
   "execution_count": 41,
   "id": "de537da4-1a55-447a-8983-10e29ef1c336",
   "metadata": {},
   "outputs": [],
   "source": [
    "# *args \n",
    "\n",
    "def adder(*args):\n",
    "    add=0\n",
    "    for i in args:\n",
    "        add = add + i\n",
    "    print (\"sum: \", add)"
   ]
  },
  {
   "cell_type": "code",
   "execution_count": 42,
   "id": "7878e8f7-ae9a-4eed-abb8-8c0174639c9f",
   "metadata": {},
   "outputs": [
    {
     "name": "stdout",
     "output_type": "stream",
     "text": [
      "sum:  5\n",
      "sum:  9\n",
      "sum:  14\n"
     ]
    }
   ],
   "source": [
    "adder(2,3)\n",
    "adder(2,3,4)\n",
    "adder(2,3,4,5)"
   ]
  },
  {
   "cell_type": "code",
   "execution_count": 52,
   "id": "0c6b1ac0-f9b4-4767-9848-18c7acff7e4b",
   "metadata": {},
   "outputs": [],
   "source": [
    "# **kwargs\n",
    "\n",
    "def fruit_value(**kwargs):\n",
    "    print(kwargs, type(kwargs))\n",
    "    "
   ]
  },
  {
   "cell_type": "code",
   "execution_count": 53,
   "id": "292cc26b-1b18-4d4b-a9e3-f5799286232f",
   "metadata": {},
   "outputs": [
    {
     "name": "stdout",
     "output_type": "stream",
     "text": [
      "{'banana': 5, 'mango': 7, 'apple': 8} <class 'dict'>\n"
     ]
    }
   ],
   "source": [
    "fruit_value(banana=5, mango=7, apple=8)"
   ]
  },
  {
   "cell_type": "code",
   "execution_count": null,
   "id": "01e8dffd-1508-4920-8595-9f1af49bd40e",
   "metadata": {},
   "outputs": [],
   "source": []
  },
  {
   "cell_type": "markdown",
   "id": "67923acd-fb03-4321-9b1d-6801af84a7f2",
   "metadata": {},
   "source": [
    "# Q3.  What is an iterator in python? Name the method used to initialise the iterator object and the method used for iteration. Use these methods to print the first five elements of the given list [2, 4, 6, 8, 10, 12, 14, 16, 18, 20]."
   ]
  },
  {
   "cell_type": "code",
   "execution_count": null,
   "id": "27df3b47-d8ee-4689-838c-503e0ea52a77",
   "metadata": {},
   "outputs": [],
   "source": [
    "''' Iterators are methods that iterate collections like lists, tuples, etc. Using an iterator method, we can loop through an object \n",
    "     and return its elements.\n",
    "    Technically, a Python iterator object must implement two special methods, __iter__() and __next__(), collectively called the iterator protocol.\n",
    "    In Python, we can use the next() function to return the next item in the sequence.'''"
   ]
  },
  {
   "cell_type": "code",
   "execution_count": 3,
   "id": "69e19e9e-50d9-4ee2-ac89-fd70340e7fe9",
   "metadata": {},
   "outputs": [
    {
     "name": "stdout",
     "output_type": "stream",
     "text": [
      "2 4 6 8 10\n"
     ]
    }
   ],
   "source": [
    "list1 = [2,4,6,8,10,12,14,16,18,20]\n",
    "\n",
    "list2 = iter(list1)\n",
    "\n",
    "print(next(list2),next(list2),next(list2),next(list2),next(list2))"
   ]
  },
  {
   "cell_type": "code",
   "execution_count": 83,
   "id": "2951043c-4909-479b-afc0-a320db802032",
   "metadata": {},
   "outputs": [
    {
     "name": "stdout",
     "output_type": "stream",
     "text": [
      "2\n",
      "4\n",
      "6\n",
      "8\n",
      "10\n"
     ]
    }
   ],
   "source": [
    "# other method\n",
    "\n",
    "list3 = [2,4,6,8,10,12,14,16,18,20]\n",
    "\n",
    "list4 = iter(list3)\n",
    "\n",
    "for index, item in enumerate(list4):\n",
    "    print(item)\n",
    "    if index == 4:\n",
    "        break"
   ]
  },
  {
   "cell_type": "markdown",
   "id": "e2ad4d7c-6ac7-4d4d-950e-f09d35a92ec4",
   "metadata": {},
   "source": [
    "# Q4.  What is a generator function in python? Why yield keyword is used? Give an example of a generator function."
   ]
  },
  {
   "cell_type": "code",
   "execution_count": null,
   "id": "669efcd1-5e58-4d3a-92e8-13a49481bc50",
   "metadata": {},
   "outputs": [],
   "source": [
    "''' In Python, a generator is a function that returns an iterator that produces a sequence of values when iterated over.\n",
    "    Generators are useful when we want to produce a large sequence of values, but we don't want to store all of them in memory at once.\n",
    "    \n",
    "    we can define a generator function using the def keyword, but instead of the return statement we use the yield statement.\n",
    "    \n",
    "    The 'yield' keyword is used to produce a value from the generator. '''"
   ]
  },
  {
   "cell_type": "code",
   "execution_count": 8,
   "id": "487297ff-b111-4dcf-8c1b-b1b178613996",
   "metadata": {},
   "outputs": [],
   "source": [
    "# function that generate increment values\n",
    "def my_generator(n):\n",
    "    value = 0                              # initialize counter\n",
    "    while value < n:                       # loop until counter is less than n\n",
    "        yield value                        # produce the current value of the counter\n",
    "        value += 1                         # increment the counter"
   ]
  },
  {
   "cell_type": "code",
   "execution_count": 7,
   "id": "5f8c45d3-aa3f-4a3f-b06e-e86114b17ef6",
   "metadata": {},
   "outputs": [
    {
     "name": "stdout",
     "output_type": "stream",
     "text": [
      "0\n",
      "1\n",
      "2\n"
     ]
    }
   ],
   "source": [
    "for value in my_generator(3):              # iterate over the generator object produced by my_generator\n",
    "    print(value)                           # print each value produced by generator"
   ]
  },
  {
   "cell_type": "markdown",
   "id": "d92952d5-8d18-4ba1-8cd3-d02e85498b5b",
   "metadata": {},
   "source": [
    "# Q5. Create a generator function for prime numbers less than 1000. Use the next() method to print the first 20 prime numbers."
   ]
  },
  {
   "cell_type": "code",
   "execution_count": 1,
   "id": "9d4a76d5-acea-4705-a0ce-a5328060b11d",
   "metadata": {},
   "outputs": [],
   "source": [
    "def prime_generator(a,b):\n",
    "    for num in range (a,b):\n",
    "        if num > 1:\n",
    "            for i in range(2,num):\n",
    "                if (num % i) == 0:\n",
    "                    break\n",
    "            else:\n",
    "                print(num, end=\" \")"
   ]
  },
  {
   "cell_type": "code",
   "execution_count": 2,
   "id": "ebf6b485-87d1-4916-861c-670953725649",
   "metadata": {},
   "outputs": [
    {
     "name": "stdout",
     "output_type": "stream",
     "text": [
      "2 3 5 7 11 13 17 19 23 29 31 37 41 43 47 53 59 61 67 71 73 79 83 89 97 101 103 107 109 113 127 131 137 139 149 151 157 163 167 173 179 181 191 193 197 199 211 223 227 229 233 239 241 251 257 263 269 271 277 281 283 293 307 311 313 317 331 337 347 349 353 359 367 373 379 383 389 397 401 409 419 421 431 433 439 443 449 457 461 463 467 479 487 491 499 503 509 521 523 541 547 557 563 569 571 577 587 593 599 601 607 613 617 619 631 641 643 647 653 659 661 673 677 683 691 701 709 719 727 733 739 743 751 757 761 769 773 787 797 809 811 821 823 827 829 839 853 857 859 863 877 881 883 887 907 911 919 929 937 941 947 953 967 971 977 983 991 997 "
     ]
    }
   ],
   "source": [
    "pg=prime_generator(1,1001)"
   ]
  },
  {
   "cell_type": "code",
   "execution_count": 14,
   "id": "30e233c6-261a-4e5a-b7a6-312fd28bf2c9",
   "metadata": {},
   "outputs": [
    {
     "name": "stdout",
     "output_type": "stream",
     "text": [
      "2 3 5 7 11 13 17 19 23 29 31 37 41 43 47 53 59 61 67 71 "
     ]
    },
    {
     "ename": "TypeError",
     "evalue": "'NoneType' object is not iterable",
     "output_type": "error",
     "traceback": [
      "\u001b[0;31m---------------------------------------------------------------------------\u001b[0m",
      "\u001b[0;31mTypeError\u001b[0m                                 Traceback (most recent call last)",
      "Cell \u001b[0;32mIn[14], line 1\u001b[0m\n\u001b[0;32m----> 1\u001b[0m \u001b[38;5;28;01mfor\u001b[39;00m i, count \u001b[38;5;129;01min\u001b[39;00m prime_generator(\u001b[38;5;241m1\u001b[39m,\u001b[38;5;241m72\u001b[39m):\n\u001b[1;32m      2\u001b[0m     \u001b[38;5;28mprint\u001b[39m(\u001b[38;5;28mnext\u001b[39m(pg), count)\n",
      "\u001b[0;31mTypeError\u001b[0m: 'NoneType' object is not iterable"
     ]
    }
   ],
   "source": [
    "for i in prime_generator(1,72):\n",
    "    print(next(pg))"
   ]
  },
  {
   "cell_type": "markdown",
   "id": "2315f43a-a006-490c-8d9a-6d69c1dc23fd",
   "metadata": {},
   "source": [
    "# Q6. Write a python program to print the first 10 Fibonacci numbers using a while loop."
   ]
  },
  {
   "cell_type": "code",
   "execution_count": 28,
   "id": "9f2fc8ac-11e5-44eb-998d-07cc50998cb1",
   "metadata": {},
   "outputs": [
    {
     "name": "stdout",
     "output_type": "stream",
     "text": [
      "0 1 1 2 3 5 8 13 21 34 "
     ]
    }
   ],
   "source": [
    "n = 10\n",
    "a = 0\n",
    "b = 1\n",
    "sum = a + b\n",
    "count = 1\n",
    "\n",
    "while (count <= n):\n",
    "\tcount += 1\n",
    "\tprint(a, end=\" \")\n",
    "\ta = b\n",
    "\tb = sum\n",
    "\tsum = a + b"
   ]
  },
  {
   "cell_type": "markdown",
   "id": "10238713-fcbb-496d-a606-53cada415da0",
   "metadata": {},
   "source": [
    "# Q7. Write a List Comprehension to iterate through the given string: ‘pwskills’. Expected output: ['p', 'w', 's', 'k', 'i', 'l', 'l', 's']"
   ]
  },
  {
   "cell_type": "code",
   "execution_count": 1,
   "id": "4cce4b35-1159-4fe5-b157-57ff31aa650f",
   "metadata": {},
   "outputs": [],
   "source": [
    "l='pwskills'\n",
    "l_iter= iter(l)"
   ]
  },
  {
   "cell_type": "code",
   "execution_count": 2,
   "id": "9e2e590e-c96a-403c-9bf4-9671f977d2ac",
   "metadata": {},
   "outputs": [],
   "source": [
    "l_output=[]\n",
    "for i in l_iter:\n",
    "    l_output.append(i)"
   ]
  },
  {
   "cell_type": "code",
   "execution_count": 3,
   "id": "b6ac01d5-cb6c-48cf-8f14-833a41644370",
   "metadata": {},
   "outputs": [
    {
     "data": {
      "text/plain": [
       "['p', 'w', 's', 'k', 'i', 'l', 'l', 's']"
      ]
     },
     "execution_count": 3,
     "metadata": {},
     "output_type": "execute_result"
    }
   ],
   "source": [
    "l_output"
   ]
  },
  {
   "cell_type": "markdown",
   "id": "8170f5dc-98d0-42c1-9de5-4602d998df83",
   "metadata": {},
   "source": [
    "# Q8. Write a python program to check whether a given number is Palindrome or not using a while loop."
   ]
  },
  {
   "cell_type": "code",
   "execution_count": 5,
   "id": "e6678d2a-6e68-4909-a017-667805e7efa8",
   "metadata": {},
   "outputs": [
    {
     "name": "stdin",
     "output_type": "stream",
     "text": [
      "Enter the number:  222\n"
     ]
    },
    {
     "name": "stdout",
     "output_type": "stream",
     "text": [
      "222 is a Palindrome\n"
     ]
    }
   ],
   "source": [
    "# take inputs\n",
    "num = int(input('Enter the number: '))\n",
    "\n",
    "# calculate reverse of number\n",
    "reverse = 0\n",
    "number = num\n",
    "while(num != 0):\n",
    "   remainder = num % 10\n",
    "   reverse = reverse * 10 + remainder\n",
    "   num = int(num / 10)\n",
    "\n",
    "# compare reverse to original number\n",
    "if(number == reverse):\n",
    "   print(number,'is a Palindrome')\n",
    "else:\n",
    "   print(number,'is not a Palindrome')"
   ]
  },
  {
   "cell_type": "markdown",
   "id": "42358337-b7e3-4bac-94b9-63b02f466ef3",
   "metadata": {},
   "source": [
    "# Q9. Write a code to print odd numbers from 1 to 100 using list comprehension.\n",
    "# Note: Use a list comprehension to create a list from 1 to 100 and use another List comprehension to filter out odd numbers."
   ]
  },
  {
   "cell_type": "code",
   "execution_count": 8,
   "id": "316b6e20-ec8c-485b-885a-c9283418183b",
   "metadata": {},
   "outputs": [
    {
     "name": "stdout",
     "output_type": "stream",
     "text": [
      "[1, 2, 3, 4, 5, 6, 7, 8, 9, 10, 11, 12, 13, 14, 15, 16, 17, 18, 19, 20, 21, 22, 23, 24, 25, 26, 27, 28, 29, 30, 31, 32, 33, 34, 35, 36, 37, 38, 39, 40, 41, 42, 43, 44, 45, 46, 47, 48, 49, 50, 51, 52, 53, 54, 55, 56, 57, 58, 59, 60, 61, 62, 63, 64, 65, 66, 67, 68, 69, 70, 71, 72, 73, 74, 75, 76, 77, 78, 79, 80, 81, 82, 83, 84, 85, 86, 87, 88, 89, 90, 91, 92, 93, 94, 95, 96, 97, 98, 99, 100]\n"
     ]
    }
   ],
   "source": [
    "l=list(range(1,101))\n",
    "print(l)"
   ]
  },
  {
   "cell_type": "code",
   "execution_count": 9,
   "id": "e774034f-db5d-4a0a-a8e0-032ea536dd7f",
   "metadata": {},
   "outputs": [],
   "source": [
    "def odd_number(a):\n",
    "    l_odd=[]\n",
    "    for i in a :\n",
    "        if i/2 and i%2 ==0:\n",
    "            pass\n",
    "        else:\n",
    "            l_odd.append(i)\n",
    "    print (l_odd)"
   ]
  },
  {
   "cell_type": "code",
   "execution_count": 10,
   "id": "cb074fd9-a7fa-4bad-a92a-24005889cdb8",
   "metadata": {},
   "outputs": [
    {
     "name": "stdout",
     "output_type": "stream",
     "text": [
      "[1, 3, 5, 7, 9, 11, 13, 15, 17, 19, 21, 23, 25, 27, 29, 31, 33, 35, 37, 39, 41, 43, 45, 47, 49, 51, 53, 55, 57, 59, 61, 63, 65, 67, 69, 71, 73, 75, 77, 79, 81, 83, 85, 87, 89, 91, 93, 95, 97, 99]\n"
     ]
    }
   ],
   "source": [
    "odd_number(l)"
   ]
  }
 ],
 "metadata": {
  "kernelspec": {
   "display_name": "Python 3 (ipykernel)",
   "language": "python",
   "name": "python3"
  },
  "language_info": {
   "codemirror_mode": {
    "name": "ipython",
    "version": 3
   },
   "file_extension": ".py",
   "mimetype": "text/x-python",
   "name": "python",
   "nbconvert_exporter": "python",
   "pygments_lexer": "ipython3",
   "version": "3.10.8"
  }
 },
 "nbformat": 4,
 "nbformat_minor": 5
}
